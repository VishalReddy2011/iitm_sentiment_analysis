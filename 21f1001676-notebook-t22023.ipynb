{
 "cells": [
  {
   "cell_type": "markdown",
   "id": "5aef4303",
   "metadata": {
    "papermill": {
     "duration": 0.01142,
     "end_time": "2023-07-31T09:26:38.104511",
     "exception": false,
     "start_time": "2023-07-31T09:26:38.093091",
     "status": "completed"
    },
    "tags": []
   },
   "source": [
    "# **<u>MLP Project (2023 May Term)</u>**\n",
    "## Sentiment Prediciton on Movie Reviews\n",
    "## Vishal Reddy Parvatha Reddy"
   ]
  },
  {
   "cell_type": "markdown",
   "id": "60e7dcf7",
   "metadata": {
    "papermill": {
     "duration": 0.010334,
     "end_time": "2023-07-31T09:26:38.126005",
     "exception": false,
     "start_time": "2023-07-31T09:26:38.115671",
     "status": "completed"
    },
    "tags": []
   },
   "source": [
    "<font size=\"3\">\n",
    "This project focuses on a classification problem, where it has to be predicted whether a movie review is positive or negative, mostly based on the review text left by various reviewers\n",
    "</font>"
   ]
  },
  {
   "cell_type": "code",
   "execution_count": 1,
   "id": "a81c1db2",
   "metadata": {
    "execution": {
     "iopub.execute_input": "2023-07-31T09:26:38.149216Z",
     "iopub.status.busy": "2023-07-31T09:26:38.148780Z",
     "iopub.status.idle": "2023-07-31T09:26:38.161155Z",
     "shell.execute_reply": "2023-07-31T09:26:38.159710Z"
    },
    "papermill": {
     "duration": 0.026925,
     "end_time": "2023-07-31T09:26:38.163633",
     "exception": false,
     "start_time": "2023-07-31T09:26:38.136708",
     "status": "completed"
    },
    "tags": []
   },
   "outputs": [],
   "source": [
    "import warnings\n",
    "warnings.filterwarnings(\"ignore\")"
   ]
  },
  {
   "cell_type": "markdown",
   "id": "312d5b4d",
   "metadata": {
    "papermill": {
     "duration": 0.010547,
     "end_time": "2023-07-31T09:26:38.185160",
     "exception": false,
     "start_time": "2023-07-31T09:26:38.174613",
     "status": "completed"
    },
    "tags": []
   },
   "source": [
    "<font size=\"3\">\n",
    "The given files are train.csv (training data), movies.csv (meta-data for various movies) and test.csv (test data). <br>\n",
    "Here, the training data and movies metadata are imported and merged:\n",
    "</font>"
   ]
  },
  {
   "cell_type": "markdown",
   "id": "50fe4683",
   "metadata": {},
   "source": [
    "### Download the following files and place them in the same folder as the notebook:\n",
    "\n",
    "1. [train.csv](https://drive.google.com/file/d/1UEDCYbeXSJgvWVKli6q_jdsg_R7jjEA4/view?usp=drive_link)<br>\n",
    "2. [movies.csv](https://drive.google.com/file/d/13bJHekTfMmC9M3whZJv2Loh6JLvTC1o1/view?usp=drive_link)"
   ]
  },
  {
   "cell_type": "code",
   "execution_count": 1,
   "id": "829136d1",
   "metadata": {
    "execution": {
     "iopub.execute_input": "2023-07-31T09:26:38.208885Z",
     "iopub.status.busy": "2023-07-31T09:26:38.208557Z",
     "iopub.status.idle": "2023-07-31T09:26:41.658037Z",
     "shell.execute_reply": "2023-07-31T09:26:41.656839Z"
    },
    "papermill": {
     "duration": 3.464545,
     "end_time": "2023-07-31T09:26:41.660508",
     "exception": false,
     "start_time": "2023-07-31T09:26:38.195963",
     "status": "completed"
    },
    "tags": []
   },
   "outputs": [],
   "source": [
    "import pandas as pd\n",
    "from sklearn.preprocessing import LabelEncoder\n",
    "import os\n",
    "\n",
    "\n",
    "cur_path=os.getcwd()\n",
    "data=pd.read_csv(cur_path+\"/train.csv\")\n",
    "movies=pd.read_csv(cur_path+\"/movies.csv\")\n",
    "movies.drop_duplicates(subset=['movieid'],inplace=True)\n",
    "data=data.merge(movies,how='left',on=\"movieid\")\n",
    "\n",
    "data.drop(['movieid'],axis=1,inplace=True)"
   ]
  },
  {
   "cell_type": "markdown",
   "id": "6cc1bb6e",
   "metadata": {
    "papermill": {
     "duration": 0.010983,
     "end_time": "2023-07-31T09:26:41.682263",
     "exception": false,
     "start_time": "2023-07-31T09:26:41.671280",
     "status": "completed"
    },
    "tags": []
   },
   "source": [
    "# Exploratory Data Analysis"
   ]
  },
  {
   "cell_type": "code",
   "execution_count": 3,
   "id": "785fdcbf",
   "metadata": {
    "execution": {
     "iopub.execute_input": "2023-07-31T09:26:41.705634Z",
     "iopub.status.busy": "2023-07-31T09:26:41.705277Z",
     "iopub.status.idle": "2023-07-31T09:26:42.044018Z",
     "shell.execute_reply": "2023-07-31T09:26:42.042648Z"
    },
    "papermill": {
     "duration": 0.353643,
     "end_time": "2023-07-31T09:26:42.046679",
     "exception": false,
     "start_time": "2023-07-31T09:26:41.693036",
     "status": "completed"
    },
    "tags": []
   },
   "outputs": [
    {
     "name": "stdout",
     "output_type": "stream",
     "text": [
      "<class 'pandas.core.frame.DataFrame'>\n",
      "RangeIndex: 162758 entries, 0 to 162757\n",
      "Data columns (total 17 columns):\n",
      " #   Column                Non-Null Count   Dtype  \n",
      "---  ------                --------------   -----  \n",
      " 0   reviewerName          162758 non-null  object \n",
      " 1   isFrequentReviewer    162758 non-null  bool   \n",
      " 2   reviewText            156311 non-null  object \n",
      " 3   sentiment             162758 non-null  object \n",
      " 4   title                 162758 non-null  object \n",
      " 5   audienceScore         149510 non-null  float64\n",
      " 6   rating                99034 non-null   object \n",
      " 7   ratingContents        99034 non-null   object \n",
      " 8   releaseDateTheaters   126924 non-null  object \n",
      " 9   releaseDateStreaming  146573 non-null  object \n",
      " 10  runtimeMinutes        159382 non-null  float64\n",
      " 11  genre                 160320 non-null  object \n",
      " 12  originalLanguage      159468 non-null  object \n",
      " 13  director              162758 non-null  object \n",
      " 14  boxOffice             109982 non-null  object \n",
      " 15  distributor           122095 non-null  object \n",
      " 16  soundType             77391 non-null   object \n",
      "dtypes: bool(1), float64(2), object(14)\n",
      "memory usage: 20.0+ MB\n"
     ]
    }
   ],
   "source": [
    "data.info()"
   ]
  },
  {
   "cell_type": "code",
   "execution_count": 4,
   "id": "4ccbb052",
   "metadata": {
    "execution": {
     "iopub.execute_input": "2023-07-31T09:26:42.070657Z",
     "iopub.status.busy": "2023-07-31T09:26:42.070253Z",
     "iopub.status.idle": "2023-07-31T09:26:42.413951Z",
     "shell.execute_reply": "2023-07-31T09:26:42.412918Z"
    },
    "papermill": {
     "duration": 0.358399,
     "end_time": "2023-07-31T09:26:42.416341",
     "exception": false,
     "start_time": "2023-07-31T09:26:42.057942",
     "status": "completed"
    },
    "tags": []
   },
   "outputs": [
    {
     "data": {
      "text/plain": [
       "reviewerName                0\n",
       "isFrequentReviewer          0\n",
       "reviewText               6447\n",
       "sentiment                   0\n",
       "title                       0\n",
       "audienceScore           13248\n",
       "rating                  63724\n",
       "ratingContents          63724\n",
       "releaseDateTheaters     35834\n",
       "releaseDateStreaming    16185\n",
       "runtimeMinutes           3376\n",
       "genre                    2438\n",
       "originalLanguage         3290\n",
       "director                    0\n",
       "boxOffice               52776\n",
       "distributor             40663\n",
       "soundType               85367\n",
       "dtype: int64"
      ]
     },
     "execution_count": 4,
     "metadata": {},
     "output_type": "execute_result"
    }
   ],
   "source": [
    "data.isna().sum()"
   ]
  },
  {
   "cell_type": "code",
   "execution_count": 5,
   "id": "8278130f",
   "metadata": {
    "execution": {
     "iopub.execute_input": "2023-07-31T09:26:42.441387Z",
     "iopub.status.busy": "2023-07-31T09:26:42.440982Z",
     "iopub.status.idle": "2023-07-31T09:26:42.457272Z",
     "shell.execute_reply": "2023-07-31T09:26:42.456331Z"
    },
    "papermill": {
     "duration": 0.031599,
     "end_time": "2023-07-31T09:26:42.459425",
     "exception": false,
     "start_time": "2023-07-31T09:26:42.427826",
     "status": "completed"
    },
    "tags": []
   },
   "outputs": [
    {
     "data": {
      "text/plain": [
       "sentiment\n",
       "POSITIVE    108761\n",
       "NEGATIVE     53997\n",
       "Name: count, dtype: int64"
      ]
     },
     "execution_count": 5,
     "metadata": {},
     "output_type": "execute_result"
    }
   ],
   "source": [
    "data['sentiment'].value_counts()"
   ]
  },
  {
   "cell_type": "code",
   "execution_count": 6,
   "id": "e9240709",
   "metadata": {
    "execution": {
     "iopub.execute_input": "2023-07-31T09:26:42.482962Z",
     "iopub.status.busy": "2023-07-31T09:26:42.482618Z",
     "iopub.status.idle": "2023-07-31T09:26:42.512795Z",
     "shell.execute_reply": "2023-07-31T09:26:42.511501Z"
    },
    "papermill": {
     "duration": 0.044494,
     "end_time": "2023-07-31T09:26:42.515107",
     "exception": false,
     "start_time": "2023-07-31T09:26:42.470613",
     "status": "completed"
    },
    "tags": []
   },
   "outputs": [
    {
     "data": {
      "text/html": [
       "<div>\n",
       "<style scoped>\n",
       "    .dataframe tbody tr th:only-of-type {\n",
       "        vertical-align: middle;\n",
       "    }\n",
       "\n",
       "    .dataframe tbody tr th {\n",
       "        vertical-align: top;\n",
       "    }\n",
       "\n",
       "    .dataframe thead th {\n",
       "        text-align: right;\n",
       "    }\n",
       "</style>\n",
       "<table border=\"1\" class=\"dataframe\">\n",
       "  <thead>\n",
       "    <tr style=\"text-align: right;\">\n",
       "      <th></th>\n",
       "      <th>reviewerName</th>\n",
       "      <th>isFrequentReviewer</th>\n",
       "      <th>reviewText</th>\n",
       "      <th>sentiment</th>\n",
       "      <th>title</th>\n",
       "      <th>audienceScore</th>\n",
       "      <th>rating</th>\n",
       "      <th>ratingContents</th>\n",
       "      <th>releaseDateTheaters</th>\n",
       "      <th>releaseDateStreaming</th>\n",
       "      <th>runtimeMinutes</th>\n",
       "      <th>genre</th>\n",
       "      <th>originalLanguage</th>\n",
       "      <th>director</th>\n",
       "      <th>boxOffice</th>\n",
       "      <th>distributor</th>\n",
       "      <th>soundType</th>\n",
       "    </tr>\n",
       "  </thead>\n",
       "  <tbody>\n",
       "    <tr>\n",
       "      <th>0</th>\n",
       "      <td>Benjamin Henry</td>\n",
       "      <td>False</td>\n",
       "      <td>Henry Selick’s first movie since 2009’s Corali...</td>\n",
       "      <td>POSITIVE</td>\n",
       "      <td>Marvelous Pirate</td>\n",
       "      <td>65.0</td>\n",
       "      <td>PG-13</td>\n",
       "      <td>['Violence', 'Brief Strong Language', 'Substan...</td>\n",
       "      <td>2022-10-21</td>\n",
       "      <td>2022-10-28</td>\n",
       "      <td>105.0</td>\n",
       "      <td>Comedy, Animation, Adventure, Fantasy</td>\n",
       "      <td>English</td>\n",
       "      <td>Bennie Basso</td>\n",
       "      <td>NaN</td>\n",
       "      <td>Netflix</td>\n",
       "      <td>NaN</td>\n",
       "    </tr>\n",
       "    <tr>\n",
       "      <th>1</th>\n",
       "      <td>Felicia Lopez</td>\n",
       "      <td>False</td>\n",
       "      <td>With a cast that reads like the Vogue Oscar pa...</td>\n",
       "      <td>NEGATIVE</td>\n",
       "      <td>Tony Montana Frodo Baggins V Rocky Balboa</td>\n",
       "      <td>NaN</td>\n",
       "      <td>NaN</td>\n",
       "      <td>NaN</td>\n",
       "      <td>NaN</td>\n",
       "      <td>2013-01-08</td>\n",
       "      <td>91.0</td>\n",
       "      <td>Action</td>\n",
       "      <td>English</td>\n",
       "      <td>Alma White</td>\n",
       "      <td>NaN</td>\n",
       "      <td>NaN</td>\n",
       "      <td>NaN</td>\n",
       "    </tr>\n",
       "    <tr>\n",
       "      <th>2</th>\n",
       "      <td>Mr. Charles Burgess</td>\n",
       "      <td>True</td>\n",
       "      <td>Creed II does not give us anything but another...</td>\n",
       "      <td>POSITIVE</td>\n",
       "      <td>Darth Vader Katniss Everdeen Sorcerer Donnie D...</td>\n",
       "      <td>80.0</td>\n",
       "      <td>PG-13</td>\n",
       "      <td>['Language', 'A Scene of Sensuality', 'Sports ...</td>\n",
       "      <td>2018-11-21</td>\n",
       "      <td>2019-02-12</td>\n",
       "      <td>130.0</td>\n",
       "      <td>Drama</td>\n",
       "      <td>English</td>\n",
       "      <td>Bobby Oleary</td>\n",
       "      <td>$115.7M</td>\n",
       "      <td>Warner Bros. Pictures, Metro-Goldwyn-Mayer</td>\n",
       "      <td>NaN</td>\n",
       "    </tr>\n",
       "    <tr>\n",
       "      <th>3</th>\n",
       "      <td>Ryan Barrett</td>\n",
       "      <td>False</td>\n",
       "      <td>I know what you're thinking, but this is no Li...</td>\n",
       "      <td>POSITIVE</td>\n",
       "      <td>Lara Croft Glimmer</td>\n",
       "      <td>NaN</td>\n",
       "      <td>NaN</td>\n",
       "      <td>NaN</td>\n",
       "      <td>NaN</td>\n",
       "      <td>2020-06-02</td>\n",
       "      <td>15.0</td>\n",
       "      <td>Drama</td>\n",
       "      <td>Spanish</td>\n",
       "      <td>Eric Hutcherson</td>\n",
       "      <td>NaN</td>\n",
       "      <td>NaN</td>\n",
       "      <td>NaN</td>\n",
       "    </tr>\n",
       "    <tr>\n",
       "      <th>4</th>\n",
       "      <td>Alexander Glover</td>\n",
       "      <td>False</td>\n",
       "      <td>Director Fernando Meirelles tells the story wi...</td>\n",
       "      <td>POSITIVE</td>\n",
       "      <td>Jason Bourne Surreal The Terminator Indiana Jones</td>\n",
       "      <td>97.0</td>\n",
       "      <td>R</td>\n",
       "      <td>['Language', 'Drug Content', 'Sexuality', 'Str...</td>\n",
       "      <td>2003-01-17</td>\n",
       "      <td>2004-06-08</td>\n",
       "      <td>131.0</td>\n",
       "      <td>Crime, Drama</td>\n",
       "      <td>Portuguese (Brazil)</td>\n",
       "      <td>John Trent</td>\n",
       "      <td>$7.6M</td>\n",
       "      <td>Miramax Films</td>\n",
       "      <td>Surround, Dolby SR, Dolby Digital, Dolby A, Do...</td>\n",
       "    </tr>\n",
       "  </tbody>\n",
       "</table>\n",
       "</div>"
      ],
      "text/plain": [
       "          reviewerName  isFrequentReviewer  \\\n",
       "0       Benjamin Henry               False   \n",
       "1        Felicia Lopez               False   \n",
       "2  Mr. Charles Burgess                True   \n",
       "3         Ryan Barrett               False   \n",
       "4     Alexander Glover               False   \n",
       "\n",
       "                                          reviewText sentiment  \\\n",
       "0  Henry Selick’s first movie since 2009’s Corali...  POSITIVE   \n",
       "1  With a cast that reads like the Vogue Oscar pa...  NEGATIVE   \n",
       "2  Creed II does not give us anything but another...  POSITIVE   \n",
       "3  I know what you're thinking, but this is no Li...  POSITIVE   \n",
       "4  Director Fernando Meirelles tells the story wi...  POSITIVE   \n",
       "\n",
       "                                               title  audienceScore rating  \\\n",
       "0                                   Marvelous Pirate           65.0  PG-13   \n",
       "1          Tony Montana Frodo Baggins V Rocky Balboa            NaN    NaN   \n",
       "2  Darth Vader Katniss Everdeen Sorcerer Donnie D...           80.0  PG-13   \n",
       "3                                 Lara Croft Glimmer            NaN    NaN   \n",
       "4  Jason Bourne Surreal The Terminator Indiana Jones           97.0      R   \n",
       "\n",
       "                                      ratingContents releaseDateTheaters  \\\n",
       "0  ['Violence', 'Brief Strong Language', 'Substan...          2022-10-21   \n",
       "1                                                NaN                 NaN   \n",
       "2  ['Language', 'A Scene of Sensuality', 'Sports ...          2018-11-21   \n",
       "3                                                NaN                 NaN   \n",
       "4  ['Language', 'Drug Content', 'Sexuality', 'Str...          2003-01-17   \n",
       "\n",
       "  releaseDateStreaming  runtimeMinutes                                  genre  \\\n",
       "0           2022-10-28           105.0  Comedy, Animation, Adventure, Fantasy   \n",
       "1           2013-01-08            91.0                                 Action   \n",
       "2           2019-02-12           130.0                                  Drama   \n",
       "3           2020-06-02            15.0                                  Drama   \n",
       "4           2004-06-08           131.0                           Crime, Drama   \n",
       "\n",
       "      originalLanguage         director boxOffice  \\\n",
       "0              English     Bennie Basso       NaN   \n",
       "1              English       Alma White       NaN   \n",
       "2              English     Bobby Oleary   $115.7M   \n",
       "3              Spanish  Eric Hutcherson       NaN   \n",
       "4  Portuguese (Brazil)       John Trent     $7.6M   \n",
       "\n",
       "                                  distributor  \\\n",
       "0                                     Netflix   \n",
       "1                                         NaN   \n",
       "2  Warner Bros. Pictures, Metro-Goldwyn-Mayer   \n",
       "3                                         NaN   \n",
       "4                               Miramax Films   \n",
       "\n",
       "                                           soundType  \n",
       "0                                                NaN  \n",
       "1                                                NaN  \n",
       "2                                                NaN  \n",
       "3                                                NaN  \n",
       "4  Surround, Dolby SR, Dolby Digital, Dolby A, Do...  "
      ]
     },
     "execution_count": 6,
     "metadata": {},
     "output_type": "execute_result"
    }
   ],
   "source": [
    "data.head()"
   ]
  },
  {
   "cell_type": "code",
   "execution_count": 7,
   "id": "58b45875",
   "metadata": {
    "execution": {
     "iopub.execute_input": "2023-07-31T09:26:42.539906Z",
     "iopub.status.busy": "2023-07-31T09:26:42.539529Z",
     "iopub.status.idle": "2023-07-31T09:26:42.854191Z",
     "shell.execute_reply": "2023-07-31T09:26:42.852724Z"
    },
    "papermill": {
     "duration": 0.330101,
     "end_time": "2023-07-31T09:26:42.856804",
     "exception": false,
     "start_time": "2023-07-31T09:26:42.526703",
     "status": "completed"
    },
    "tags": []
   },
   "outputs": [],
   "source": [
    "# Importing required libraries for plotting\n",
    "import seaborn as sb\n",
    "import matplotlib.pyplot as plt\n",
    "import numpy as np"
   ]
  },
  {
   "cell_type": "markdown",
   "id": "381831e3",
   "metadata": {
    "papermill": {
     "duration": 0.011193,
     "end_time": "2023-07-31T09:26:42.879618",
     "exception": false,
     "start_time": "2023-07-31T09:26:42.868425",
     "status": "completed"
    },
    "tags": []
   },
   "source": [
    "## 1) Audience Score Counts"
   ]
  },
  {
   "cell_type": "code",
   "execution_count": 8,
   "id": "e5d6200d",
   "metadata": {
    "execution": {
     "iopub.execute_input": "2023-07-31T09:26:42.904209Z",
     "iopub.status.busy": "2023-07-31T09:26:42.903436Z",
     "iopub.status.idle": "2023-07-31T09:26:43.449895Z",
     "shell.execute_reply": "2023-07-31T09:26:43.448438Z"
    },
    "papermill": {
     "duration": 0.56176,
     "end_time": "2023-07-31T09:26:43.452557",
     "exception": false,
     "start_time": "2023-07-31T09:26:42.890797",
     "status": "completed"
    },
    "tags": []
   },
   "outputs": [
    {
     "data": {
      "image/png": "[encoded data removed]",
      "text/plain": [
       "<Figure size 500x300 with 1 Axes>"
      ]
     },
     "metadata": {},
     "output_type": "display_data"
    }
   ],
   "source": [
    "sb.histplot(data=data,x='audienceScore',binwidth=10,hue='sentiment',multiple='stack')\n",
    "plt.xticks(np.arange(0,101,10))\n",
    "plt.gcf().set_size_inches(5, 3) \n",
    "plt.xlabel(\"Audience Score\")\n",
    "plt.show()"
   ]
  },
  {
   "cell_type": "code",
   "execution_count": 9,
   "id": "d2eb6fe1",
   "metadata": {
    "execution": {
     "iopub.execute_input": "2023-07-31T09:26:43.478342Z",
     "iopub.status.busy": "2023-07-31T09:26:43.477953Z",
     "iopub.status.idle": "2023-07-31T09:26:43.487583Z",
     "shell.execute_reply": "2023-07-31T09:26:43.486394Z"
    },
    "papermill": {
     "duration": 0.024803,
     "end_time": "2023-07-31T09:26:43.489576",
     "exception": false,
     "start_time": "2023-07-31T09:26:43.464773",
     "status": "completed"
    },
    "tags": []
   },
   "outputs": [
    {
     "name": "stdout",
     "output_type": "stream",
     "text": [
      "46.41% of movies rated by the audience have a score above 70\n"
     ]
    }
   ],
   "source": [
    "high_rated=data[\"audienceScore\"].loc[(70<data[\"audienceScore\"]) & (data[\"audienceScore\"]<100)].shape[0]\n",
    "print(f'{high_rated/149510*100:.2f}% of movies rated by the audience have a score above 70')"
   ]
  },
  {
   "cell_type": "markdown",
   "id": "d6d096a4",
   "metadata": {
    "papermill": {
     "duration": 0.011835,
     "end_time": "2023-07-31T09:26:43.513535",
     "exception": false,
     "start_time": "2023-07-31T09:26:43.501700",
     "status": "completed"
    },
    "tags": []
   },
   "source": [
    "<font size=\"3\">\n",
    "Close to 50% of the audience score values are high (greater that 70). For each bin, as the score decreases, the proportion of positive sentiment reviews also decreases as expected. Still, the high absolute number of negative reviews in the movies that the audience score \"highly\" may suggest that reviewers and the general audience have different metrics by which they evaluate a movie.\n",
    "</font>"
   ]
  },
  {
   "cell_type": "markdown",
   "id": "7d13f793",
   "metadata": {
    "papermill": {
     "duration": 0.011872,
     "end_time": "2023-07-31T09:26:43.543096",
     "exception": false,
     "start_time": "2023-07-31T09:26:43.531224",
     "status": "completed"
    },
    "tags": []
   },
   "source": [
    "## 2) Rating Categories Counts"
   ]
  },
  {
   "cell_type": "code",
   "execution_count": 10,
   "id": "42f4b0c5",
   "metadata": {
    "execution": {
     "iopub.execute_input": "2023-07-31T09:26:43.569047Z",
     "iopub.status.busy": "2023-07-31T09:26:43.568074Z",
     "iopub.status.idle": "2023-07-31T09:26:43.890263Z",
     "shell.execute_reply": "2023-07-31T09:26:43.889115Z"
    },
    "papermill": {
     "duration": 0.337974,
     "end_time": "2023-07-31T09:26:43.892996",
     "exception": false,
     "start_time": "2023-07-31T09:26:43.555022",
     "status": "completed"
    },
    "tags": []
   },
   "outputs": [
    {
     "data": {
      "image/png": "[encoded data removed]",
      "text/plain": [
       "<Figure size 500x300 with 1 Axes>"
      ]
     },
     "metadata": {},
     "output_type": "display_data"
    }
   ],
   "source": [
    "other={}\n",
    "for i in data['rating'].value_counts().index[3:]:\n",
    "    other[i]='Other'\n",
    "data['rating'].replace(other,inplace=True)\n",
    "sb.countplot(data=data,x='rating',order=data['rating'].value_counts().index,hue='sentiment')\n",
    "plt.xlabel(\"Rating\")\n",
    "plt.ylabel(\"Count\")\n",
    "plt.legend(title=\"Sentiment\")\n",
    "plt.gcf().set_size_inches(5, 3) \n",
    "plt.show()"
   ]
  },
  {
   "cell_type": "markdown",
   "id": "e88d21bd",
   "metadata": {
    "papermill": {
     "duration": 0.012051,
     "end_time": "2023-07-31T09:26:43.917440",
     "exception": false,
     "start_time": "2023-07-31T09:26:43.905389",
     "status": "completed"
    },
    "tags": []
   },
   "source": [
    "<font size=\"3\">\n",
    "Most movies belong to the R, PG-13, and PG rating categories, in that order. Other ratings not shown in the plot are: NC-17, TVPG, TV14, and TVMA. R-rated movies, being the most abundant rating, also has the highest proportion of positive reviews, with them being roughly double the number of negative reviews.\n",
    "</font>"
   ]
  },
  {
   "cell_type": "markdown",
   "id": "3e9baa4c",
   "metadata": {
    "papermill": {
     "duration": 0.011649,
     "end_time": "2023-07-31T09:26:43.942395",
     "exception": false,
     "start_time": "2023-07-31T09:26:43.930746",
     "status": "completed"
    },
    "tags": []
   },
   "source": [
    "## 3) Theater and Streaming Release Years"
   ]
  },
  {
   "cell_type": "code",
   "execution_count": 11,
   "id": "979f7668",
   "metadata": {
    "execution": {
     "iopub.execute_input": "2023-07-31T09:26:43.968417Z",
     "iopub.status.busy": "2023-07-31T09:26:43.967792Z",
     "iopub.status.idle": "2023-07-31T09:26:44.777080Z",
     "shell.execute_reply": "2023-07-31T09:26:44.775230Z"
    },
    "papermill": {
     "duration": 0.824439,
     "end_time": "2023-07-31T09:26:44.778995",
     "exception": false,
     "start_time": "2023-07-31T09:26:43.954556",
     "status": "completed"
    },
    "tags": []
   },
   "outputs": [
    {
     "data": {
      "image/png": "[encoded data removed]",
      "text/plain": [
       "<Figure size 800x150 with 1 Axes>"
      ]
     },
     "metadata": {},
     "output_type": "display_data"
    },
    {
     "data": {
      "image/png": "[encoded data removed]",
      "text/plain": [
       "<Figure size 800x150 with 1 Axes>"
      ]
     },
     "metadata": {},
     "output_type": "display_data"
    }
   ],
   "source": [
    "rd={1:'releaseDateTheaters',2:'releaseDateStreaming'}\n",
    "\n",
    "for i in rd:\n",
    "    plt.figure(i)\n",
    "    years=data[rd[i]].dropna().astype(\"datetime64[ns]\").dt.year\n",
    "    plt.margins(x=0)\n",
    "    sb.histplot(years,bins=range(1910,2030,10),binwidth=1)\n",
    "    plt.xlabel(\"Release Year\")\n",
    "    plt.xticks(np.arange(1910,2030,10))\n",
    "    plt.yticks(np.arange(0,10001,5000))\n",
    "    plt.gcf().set_size_inches(8, 1.5)\n",
    "    plt.xlabel(f\"{rd[i][11:]} Release Year\")\n",
    "plt.show()"
   ]
  },
  {
   "cell_type": "markdown",
   "id": "602d29a4",
   "metadata": {
    "papermill": {
     "duration": 0.012361,
     "end_time": "2023-07-31T09:26:44.804109",
     "exception": false,
     "start_time": "2023-07-31T09:26:44.791748",
     "status": "completed"
    },
    "tags": []
   },
   "source": [
    "<font size=\"3\">\n",
    "The number of movies released in theaters by year saw a rise towards the end of the 20th century, which was also around the time movies started being released in streaming services. The sudden drop in the theater releases in 2020, compared to 2019, may suggest the COVID-19 pandemic had a significant effect on the film industry. \n",
    "</font>"
   ]
  },
  {
   "cell_type": "markdown",
   "id": "3c6b2cb3",
   "metadata": {
    "papermill": {
     "duration": 0.01242,
     "end_time": "2023-07-31T09:26:44.828941",
     "exception": false,
     "start_time": "2023-07-31T09:26:44.816521",
     "status": "completed"
    },
    "tags": []
   },
   "source": [
    "## 4) Movie Distributor Share"
   ]
  },
  {
   "cell_type": "code",
   "execution_count": 12,
   "id": "2ad5d07c",
   "metadata": {
    "execution": {
     "iopub.execute_input": "2023-07-31T09:26:44.855845Z",
     "iopub.status.busy": "2023-07-31T09:26:44.855286Z",
     "iopub.status.idle": "2023-07-31T09:26:45.105887Z",
     "shell.execute_reply": "2023-07-31T09:26:45.105133Z"
    },
    "papermill": {
     "duration": 0.266544,
     "end_time": "2023-07-31T09:26:45.108109",
     "exception": false,
     "start_time": "2023-07-31T09:26:44.841565",
     "status": "completed"
    },
    "tags": []
   },
   "outputs": [
    {
     "data": {
      "image/png": "[encoded data removed]",
      "text/plain": [
       "<Figure size 500x150 with 1 Axes>"
      ]
     },
     "metadata": {},
     "output_type": "display_data"
    }
   ],
   "source": [
    "from matplotlib import cm\n",
    "dvc=data['distributor'].value_counts()[:10]\n",
    "dvc.loc['Others']=data['distributor'].value_counts()[10:].sum()\n",
    "fig,ax=plt.subplots()\n",
    "ax.pie(dvc,radius=2.5,colors=cm.tab20(np.arange(11)/11),autopct='%1.0f%%',textprops={'fontsize': 7},pctdistance=1.1)\n",
    "plt.gcf().set_size_inches(5, 1.5)\n",
    "plt.legend(dvc.index,loc=\"center right\",bbox_to_anchor=(1.4,0.5),bbox_transform=fig.transFigure,title=\"Distributors\")\n",
    "plt.show()"
   ]
  },
  {
   "cell_type": "code",
   "execution_count": 13,
   "id": "149fc75d",
   "metadata": {
    "execution": {
     "iopub.execute_input": "2023-07-31T09:26:45.145657Z",
     "iopub.status.busy": "2023-07-31T09:26:45.144997Z",
     "iopub.status.idle": "2023-07-31T09:26:45.158723Z",
     "shell.execute_reply": "2023-07-31T09:26:45.157460Z"
    },
    "papermill": {
     "duration": 0.034255,
     "end_time": "2023-07-31T09:26:45.160651",
     "exception": false,
     "start_time": "2023-07-31T09:26:45.126396",
     "status": "completed"
    },
    "tags": []
   },
   "outputs": [
    {
     "name": "stdout",
     "output_type": "stream",
     "text": [
      "Total number of unique film distributors: 1610\n"
     ]
    }
   ],
   "source": [
    "dist_unique=data['distributor'].nunique()\n",
    "print(f'Total number of unique film distributors: {dist_unique}')"
   ]
  },
  {
   "cell_type": "markdown",
   "id": "35bae8e4",
   "metadata": {
    "papermill": {
     "duration": 0.012998,
     "end_time": "2023-07-31T09:26:45.187498",
     "exception": false,
     "start_time": "2023-07-31T09:26:45.174500",
     "status": "completed"
    },
    "tags": []
   },
   "source": [
    "<font size=\"3\">\n",
    "Looking at the share of movies distributed by various companies, the top ten out of 1610 distributors account for more than 40% of all movies releases.\n",
    "</font>"
   ]
  },
  {
   "cell_type": "markdown",
   "id": "a7d06365",
   "metadata": {
    "papermill": {
     "duration": 0.012934,
     "end_time": "2023-07-31T09:26:45.213776",
     "exception": false,
     "start_time": "2023-07-31T09:26:45.200842",
     "status": "completed"
    },
    "tags": []
   },
   "source": [
    "## 5) Runtime vs Audience Score"
   ]
  },
  {
   "cell_type": "code",
   "execution_count": 14,
   "id": "70105d0b",
   "metadata": {
    "execution": {
     "iopub.execute_input": "2023-07-31T09:26:45.243951Z",
     "iopub.status.busy": "2023-07-31T09:26:45.243292Z",
     "iopub.status.idle": "2023-07-31T09:26:45.523765Z",
     "shell.execute_reply": "2023-07-31T09:26:45.522368Z"
    },
    "papermill": {
     "duration": 0.298444,
     "end_time": "2023-07-31T09:26:45.526398",
     "exception": false,
     "start_time": "2023-07-31T09:26:45.227954",
     "status": "completed"
    },
    "tags": []
   },
   "outputs": [
    {
     "data": {
      "image/png": "[encoded data removed]",
      "text/plain": [
       "<Figure size 500x300 with 1 Axes>"
      ]
     },
     "metadata": {},
     "output_type": "display_data"
    }
   ],
   "source": [
    "sb.scatterplot(data=data,y='runtimeMinutes',x='audienceScore',s=7)\n",
    "plt.grid()\n",
    "plt.xlabel(\"Audience Score\")\n",
    "plt.ylabel(\"Runtime (in Minutes)\")\n",
    "plt.gcf().set_size_inches(5, 3)\n",
    "plt.show()"
   ]
  },
  {
   "cell_type": "markdown",
   "id": "7e3d5546",
   "metadata": {
    "papermill": {
     "duration": 0.014019,
     "end_time": "2023-07-31T09:26:45.554680",
     "exception": false,
     "start_time": "2023-07-31T09:26:45.540661",
     "status": "completed"
    },
    "tags": []
   },
   "source": [
    "<font size=\"3\">\n",
    "From the scatterplot, as the audience score increases, the range of movie runtime also increases. This may suggest that the 'goodness' or quality of a movie is less influenced by the runtime itself. Many outliers can be observed in the runtime category, with some being over 5 hours long.\n",
    "</font>"
   ]
  },
  {
   "cell_type": "markdown",
   "id": "9d7de3a5",
   "metadata": {
    "papermill": {
     "duration": 0.014289,
     "end_time": "2023-07-31T09:26:45.583233",
     "exception": false,
     "start_time": "2023-07-31T09:26:45.568944",
     "status": "completed"
    },
    "tags": []
   },
   "source": [
    "<font size=\"3\">\n",
    "Some data pre-processing is needed before the rest of the analysis. Dropping columns with many missing values, or those that may encounter a high number of unseen values in test data:\n",
    "</font>"
   ]
  },
  {
   "cell_type": "code",
   "execution_count": 15,
   "id": "3aa366d8",
   "metadata": {
    "execution": {
     "iopub.execute_input": "2023-07-31T09:26:45.612516Z",
     "iopub.status.busy": "2023-07-31T09:26:45.612162Z",
     "iopub.status.idle": "2023-07-31T09:26:45.626644Z",
     "shell.execute_reply": "2023-07-31T09:26:45.625539Z"
    },
    "papermill": {
     "duration": 0.031782,
     "end_time": "2023-07-31T09:26:45.629026",
     "exception": false,
     "start_time": "2023-07-31T09:26:45.597244",
     "status": "completed"
    },
    "tags": []
   },
   "outputs": [],
   "source": [
    "y=data['sentiment']\n",
    "train=data.drop(['isFrequentReviewer','reviewerName','rating','ratingContents','releaseDateTheaters',\n",
    "                 'originalLanguage','releaseDateStreaming','director','boxOffice','distributor','soundType','sentiment'], axis=1)"
   ]
  },
  {
   "cell_type": "code",
   "execution_count": 16,
   "id": "5b029d19",
   "metadata": {
    "execution": {
     "iopub.execute_input": "2023-07-31T09:26:45.659983Z",
     "iopub.status.busy": "2023-07-31T09:26:45.658587Z",
     "iopub.status.idle": "2023-07-31T09:26:45.675640Z",
     "shell.execute_reply": "2023-07-31T09:26:45.674502Z"
    },
    "papermill": {
     "duration": 0.034387,
     "end_time": "2023-07-31T09:26:45.677667",
     "exception": false,
     "start_time": "2023-07-31T09:26:45.643280",
     "status": "completed"
    },
    "tags": []
   },
   "outputs": [
    {
     "name": "stdout",
     "output_type": "stream",
     "text": [
      "Outliers in runtimeMinutes: 5373\n"
     ]
    }
   ],
   "source": [
    "# Finding number of outliers in the runtimeMinutes \n",
    "rm=\"runtimeMinutes\"\n",
    "q1 = train[rm].quantile(0.25)\n",
    "q3 = train[rm].quantile(0.75)\n",
    "iqr = q3 - q1\n",
    "no_outliers=((train[rm] < (q1 - 1.5 * iqr)) | (train[rm] > (q3 + 1.5 * iqr))).sum()\n",
    "print(\"Outliers in \"+rm+\": \"+str(no_outliers))"
   ]
  },
  {
   "cell_type": "markdown",
   "id": "6a81a88b",
   "metadata": {
    "papermill": {
     "duration": 0.013655,
     "end_time": "2023-07-31T09:26:45.705514",
     "exception": false,
     "start_time": "2023-07-31T09:26:45.691859",
     "status": "completed"
    },
    "tags": []
   },
   "source": [
    "<font size=\"3\">\n",
    "A pipeline is being used to impute data into the columns with scikit-learn's SimpleImputer.\n",
    "<br><br>\n",
    "1)  Since imputing text data in a proper manner would require deep knowledge in natural language processing, the reviewText column has been imputed with empty strings. <br>\n",
    "2)  audienceScore is imputed with the mean of the data, while runtimeMinutes is imputed with the median as outliers were observed in the data. <br>\n",
    "3)  The genre column, being categorical data, is imputed with the mode of the column, which is the drama genre.\n",
    "</font>"
   ]
  },
  {
   "cell_type": "code",
   "execution_count": 17,
   "id": "c8fdc14d",
   "metadata": {
    "execution": {
     "iopub.execute_input": "2023-07-31T09:26:45.735874Z",
     "iopub.status.busy": "2023-07-31T09:26:45.735497Z",
     "iopub.status.idle": "2023-07-31T09:26:46.400793Z",
     "shell.execute_reply": "2023-07-31T09:26:46.399515Z"
    },
    "papermill": {
     "duration": 0.684047,
     "end_time": "2023-07-31T09:26:46.403818",
     "exception": false,
     "start_time": "2023-07-31T09:26:45.719771",
     "status": "completed"
    },
    "tags": []
   },
   "outputs": [],
   "source": [
    "# Imputing wherever necessary\n",
    "from sklearn.compose import ColumnTransformer\n",
    "from sklearn.impute import SimpleImputer,KNNImputer\n",
    "\n",
    "impute_pipe=ColumnTransformer([\n",
    "    ('empty',SimpleImputer(strategy='constant',fill_value=''),['reviewText']),\n",
    "    ('pass','passthrough',['title']),\n",
    "    ('mean',SimpleImputer(strategy='mean'),['audienceScore']),\n",
    "    ('median',SimpleImputer(strategy='median'),['runtimeMinutes']),\n",
    "    ('mode',SimpleImputer(strategy='most_frequent'),['genre']),\n",
    "    ])\n",
    "\n",
    "train=pd.DataFrame(impute_pipe.fit_transform(train),columns=train.columns)"
   ]
  },
  {
   "cell_type": "code",
   "execution_count": 18,
   "id": "9a3b7e95",
   "metadata": {
    "execution": {
     "iopub.execute_input": "2023-07-31T09:26:46.433715Z",
     "iopub.status.busy": "2023-07-31T09:26:46.433362Z",
     "iopub.status.idle": "2023-07-31T09:26:50.028891Z",
     "shell.execute_reply": "2023-07-31T09:26:50.027557Z"
    },
    "papermill": {
     "duration": 3.613542,
     "end_time": "2023-07-31T09:26:50.031417",
     "exception": false,
     "start_time": "2023-07-31T09:26:46.417875",
     "status": "completed"
    },
    "tags": []
   },
   "outputs": [],
   "source": [
    "# Applying regex to text columns:\n",
    "import re\n",
    "\n",
    "def reg1(txt):\n",
    "  txt=re.sub(\"['\\\"\"+chr(8217)+\"]\"+r\"\\S*\\b\",\"\",txt)  # chr (8217): different apostrophe appearing multiple times\n",
    "  txt=re.sub(\"[^a-zA-Z]\",\" \",txt)\n",
    "  txt=re.sub(\"\\s+\",\" \",txt.strip())\n",
    "  return txt\n",
    "\n",
    "# TfidfVectorizer considers genres like \"kids & family\" and \"sci-fi\" as two separate genres\n",
    "def reg2(txt):\n",
    "  txt=re.sub(\" & \",\"/\",txt) \n",
    "  txt=re.sub(\"-\",\"\",txt)\n",
    "  return txt\n",
    "\n",
    "for i in ['reviewText','title']:\n",
    "  train[i]=train[i].apply(reg1)\n",
    "\n",
    "train['genre']=train['genre'].apply(reg2)"
   ]
  },
  {
   "cell_type": "markdown",
   "id": "a7994ea2",
   "metadata": {
    "papermill": {
     "duration": 0.014569,
     "end_time": "2023-07-31T09:26:50.060693",
     "exception": false,
     "start_time": "2023-07-31T09:26:50.046124",
     "status": "completed"
    },
    "tags": []
   },
   "source": [
    "## 6) Genres Counts"
   ]
  },
  {
   "cell_type": "code",
   "execution_count": 19,
   "id": "84b1031e",
   "metadata": {
    "execution": {
     "iopub.execute_input": "2023-07-31T09:26:50.090857Z",
     "iopub.status.busy": "2023-07-31T09:26:50.090500Z",
     "iopub.status.idle": "2023-07-31T09:26:51.768996Z",
     "shell.execute_reply": "2023-07-31T09:26:51.767962Z"
    },
    "papermill": {
     "duration": 1.695996,
     "end_time": "2023-07-31T09:26:51.770955",
     "exception": false,
     "start_time": "2023-07-31T09:26:50.074959",
     "status": "completed"
    },
    "tags": []
   },
   "outputs": [
    {
     "data": {
      "image/png": "[encoded data removed]",
      "text/plain": [
       "<Figure size 800x200 with 1 Axes>"
      ]
     },
     "metadata": {},
     "output_type": "display_data"
    }
   ],
   "source": [
    "from sklearn.preprocessing import MultiLabelBinarizer\n",
    "\n",
    "mlb=MultiLabelBinarizer()\n",
    "genres=mlb.fit_transform(train['genre'].apply(lambda x:x.split(', ')))\n",
    "genres=pd.DataFrame(genres,columns=mlb.classes_)\n",
    "genres['sentiment']=y\n",
    "gvss=pd.DataFrame(index=genres.columns,columns=('POSITIVE','NEGATIVE','sum'))\n",
    "\n",
    "sent={0:'POSITIVE',1:'NEGATIVE'}\n",
    "for i in mlb.classes_:\n",
    "  for j in (0,1):\n",
    "    gvss.loc[i][j]=genres[(genres[i]==1) & (genres['sentiment']==sent[j])][i].sum()\n",
    "  gvss.loc[i][2]=gvss.loc[i][0]+gvss.loc[i][1]\n",
    "gvss.drop('sentiment',inplace=True)\n",
    "gvss.sort_values(by='sum',ascending=False,inplace=True)\n",
    "gvss.loc['Others']=gvss.iloc[20:].sum()\n",
    "gvss.sort_values(by='sum',ascending=False,inplace=True)\n",
    "gvss.drop('sum',axis=1,inplace=True)\n",
    "gvss=gvss.iloc[:21]\n",
    "\n",
    "gvss.plot(kind='bar',stacked=True)\n",
    "plt.ylabel(\"Count\")\n",
    "plt.xlabel(\"Genre\")\n",
    "plt.gcf().set_size_inches(8, 2)\n",
    "plt.xticks(fontsize=8)\n",
    "plt.legend(title=\"Sentiment\")\n",
    "plt.show()"
   ]
  },
  {
   "cell_type": "markdown",
   "id": "e76b6a0f",
   "metadata": {
    "papermill": {
     "duration": 0.014981,
     "end_time": "2023-07-31T09:26:51.800498",
     "exception": false,
     "start_time": "2023-07-31T09:26:51.785517",
     "status": "completed"
    },
    "tags": []
   },
   "source": [
    "<font size=\"3\">\n",
    "It should be noted that movies are tagged with different genres. With that said, almost half the movies in the data belong to the drama genre. The high proportion of positive reviews for documentary films may suggest that the quality and effort put into them are higher.</font>"
   ]
  },
  {
   "cell_type": "markdown",
   "id": "d11f2cbd",
   "metadata": {
    "papermill": {
     "duration": 0.013665,
     "end_time": "2023-07-31T09:26:51.828112",
     "exception": false,
     "start_time": "2023-07-31T09:26:51.814447",
     "status": "completed"
    },
    "tags": []
   },
   "source": [
    "# Data Pre-Processing"
   ]
  },
  {
   "cell_type": "code",
   "execution_count": 20,
   "id": "3cfa4623",
   "metadata": {
    "execution": {
     "iopub.execute_input": "2023-07-31T09:26:51.858730Z",
     "iopub.status.busy": "2023-07-31T09:26:51.858336Z",
     "iopub.status.idle": "2023-07-31T09:26:51.895225Z",
     "shell.execute_reply": "2023-07-31T09:26:51.893876Z"
    },
    "papermill": {
     "duration": 0.055404,
     "end_time": "2023-07-31T09:26:51.897740",
     "exception": false,
     "start_time": "2023-07-31T09:26:51.842336",
     "status": "completed"
    },
    "tags": []
   },
   "outputs": [],
   "source": [
    "from sklearn.preprocessing import LabelEncoder\n",
    "\n",
    "y=LabelEncoder().fit_transform(y)"
   ]
  },
  {
   "cell_type": "markdown",
   "id": "6a3228c6",
   "metadata": {
    "papermill": {
     "duration": 0.015172,
     "end_time": "2023-07-31T09:26:51.927920",
     "exception": false,
     "start_time": "2023-07-31T09:26:51.912748",
     "status": "completed"
    },
    "tags": []
   },
   "source": [
    "### Pre-Processing Train Data\n",
    "<font size=\"3\">\n",
    "1) TfidfVectorizer is being used on the reviewText, title, and genre columns. Feature selection for reviewText is being done with TfidfVectorizer itself. <br>\n",
    "2) ngram_range(1,2) not only considers individual words, but also considers pairs of words, which may lead to better capturing of the context of the words, at the cost of a much increased number of features. <br>\n",
    "3) MaxAbsScaler keeps the values of the audienceScore between 0 and 1. <br>\n",
    "4) RobustScaler, which is applied to the runtimeMinutes column, is a form of scaling that helps in dealing with outliers, where each value is divided by the median of the column then divided by the inter-quartile rarnge of the column. <br>\n",
    "</font>"
   ]
  },
  {
   "cell_type": "code",
   "execution_count": 21,
   "id": "e6e515d4",
   "metadata": {
    "execution": {
     "iopub.execute_input": "2023-07-31T09:26:51.960098Z",
     "iopub.status.busy": "2023-07-31T09:26:51.959723Z",
     "iopub.status.idle": "2023-07-31T09:26:51.977681Z",
     "shell.execute_reply": "2023-07-31T09:26:51.976977Z"
    },
    "papermill": {
     "duration": 0.037316,
     "end_time": "2023-07-31T09:26:51.980054",
     "exception": false,
     "start_time": "2023-07-31T09:26:51.942738",
     "status": "completed"
    },
    "tags": []
   },
   "outputs": [],
   "source": [
    "from sklearn.feature_extraction.text import TfidfVectorizer\n",
    "from sklearn.preprocessing import MaxAbsScaler, RobustScaler\n",
    "\n",
    "col_tsfmr=ColumnTransformer([\n",
    "    ('r_tfidf',TfidfVectorizer(ngram_range=(1,2),max_features=40000,min_df=10),'reviewText'),\n",
    "    ('t_tfidf',TfidfVectorizer(ngram_range=(1,2)),'title'),\n",
    "    ('mas',MaxAbsScaler(),['audienceScore']),\n",
    "    ('rs',RobustScaler(),['runtimeMinutes']),\n",
    "    ('g_tfidf',TfidfVectorizer(),'genre')\n",
    "],n_jobs=-1)"
   ]
  },
  {
   "cell_type": "code",
   "execution_count": 22,
   "id": "84b3c6c7",
   "metadata": {
    "execution": {
     "iopub.execute_input": "2023-07-31T09:26:52.010873Z",
     "iopub.status.busy": "2023-07-31T09:26:52.010331Z",
     "iopub.status.idle": "2023-07-31T09:27:06.838089Z",
     "shell.execute_reply": "2023-07-31T09:27:06.836769Z"
    },
    "papermill": {
     "duration": 14.846056,
     "end_time": "2023-07-31T09:27:06.840664",
     "exception": false,
     "start_time": "2023-07-31T09:26:51.994608",
     "status": "completed"
    },
    "tags": []
   },
   "outputs": [],
   "source": [
    "# Splitting the data in 9:1 ratio into training and validation datasets\n",
    "from sklearn.model_selection import train_test_split as tts\n",
    "\n",
    "X_train,X_val,y_train,y_val=tts(train,y,test_size=0.1,random_state=10)\n",
    "\n",
    "# Applying column transformer pre-processing\n",
    "X_train=col_tsfmr.fit_transform(X_train)\n",
    "X_val=col_tsfmr.transform(X_val)"
   ]
  },
  {
   "cell_type": "code",
   "execution_count": 23,
   "id": "6982055b",
   "metadata": {
    "execution": {
     "iopub.execute_input": "2023-07-31T09:27:06.880611Z",
     "iopub.status.busy": "2023-07-31T09:27:06.880235Z",
     "iopub.status.idle": "2023-07-31T09:27:06.885888Z",
     "shell.execute_reply": "2023-07-31T09:27:06.885132Z"
    },
    "papermill": {
     "duration": 0.027456,
     "end_time": "2023-07-31T09:27:06.887541",
     "exception": false,
     "start_time": "2023-07-31T09:27:06.860085",
     "status": "completed"
    },
    "tags": []
   },
   "outputs": [
    {
     "name": "stdout",
     "output_type": "stream",
     "text": [
      "Number of features from reviewText: 40000\n",
      "Number of features from title: 15903\n",
      "Number of features from genre: 38\n",
      "\n",
      "Total number of features: 55943\n"
     ]
    }
   ],
   "source": [
    "for i in (0,1,4):\n",
    "    nf=len(col_tsfmr.transformers_[i][1].vocabulary_)\n",
    "    col=col_tsfmr.transformers_[i][2]\n",
    "    print(f'Number of features from {col}: {nf}')\n",
    "    \n",
    "print(f'\\nTotal number of features: {X_train.shape[1]}')"
   ]
  },
  {
   "cell_type": "markdown",
   "id": "f0a92a9a",
   "metadata": {
    "papermill": {
     "duration": 0.013757,
     "end_time": "2023-07-31T09:27:06.915480",
     "exception": false,
     "start_time": "2023-07-31T09:27:06.901723",
     "status": "completed"
    },
    "tags": []
   },
   "source": [
    "# Model Training with GridSearchCV"
   ]
  },
  {
   "cell_type": "markdown",
   "id": "016bc753",
   "metadata": {
    "papermill": {
     "duration": 0.013938,
     "end_time": "2023-07-31T09:27:06.943652",
     "exception": false,
     "start_time": "2023-07-31T09:27:06.929714",
     "status": "completed"
    },
    "tags": []
   },
   "source": [
    "<font size='3'>\n",
    "Here, a diverse set of models have been chosen for training the data:\n",
    "\n",
    "1) LogisticRegression: Versatile algorithm with good interpratability and ease of implementation. <br>\n",
    "2) SGDClassifier: Memory-efficient classifier that employs stochastic gradient descent. Converges quickly for large-scale datasets.<br>\n",
    "3) LinearSVC: Support Vector Machine algorithm that converges quicker compared to its counterparts. Robust to outliers.\n",
    "</font>"
   ]
  },
  {
   "cell_type": "markdown",
   "id": "3d4fcba1",
   "metadata": {
    "papermill": {
     "duration": 0.014122,
     "end_time": "2023-07-31T09:27:06.971908",
     "exception": false,
     "start_time": "2023-07-31T09:27:06.957786",
     "status": "completed"
    },
    "tags": []
   },
   "source": [
    "## 1) LogisticRegression"
   ]
  },
  {
   "cell_type": "code",
   "execution_count": 24,
   "id": "7fe66856",
   "metadata": {
    "execution": {
     "iopub.execute_input": "2023-07-31T09:27:07.002504Z",
     "iopub.status.busy": "2023-07-31T09:27:07.001754Z",
     "iopub.status.idle": "2023-07-31T09:27:51.160707Z",
     "shell.execute_reply": "2023-07-31T09:27:51.159698Z"
    },
    "papermill": {
     "duration": 44.177098,
     "end_time": "2023-07-31T09:27:51.163193",
     "exception": false,
     "start_time": "2023-07-31T09:27:06.986095",
     "status": "completed"
    },
    "tags": []
   },
   "outputs": [],
   "source": [
    "from sklearn.linear_model import LogisticRegression\n",
    "'''\n",
    "from sklearn.model_selection import GridSearchCV\n",
    "\n",
    "logreg=LogisticRegression(max_iter=5000,random_state=10)\n",
    "\n",
    "pg_base={'C':np.arange(1,5),\n",
    "         'fit_intercept':[False,True]}\n",
    "pg=[\n",
    "    {\n",
    "      'penalty':['l1','l2'],\n",
    "      'solver':['liblinear']\n",
    "    },\n",
    "    {\n",
    "      'penalty':['l2'],\n",
    "      'solver':['lbfgs']\n",
    "    }\n",
    "]\n",
    "for i in pg:\n",
    "  i.update(pg_base)\n",
    "gscv=GridSearchCV(logreg,pg,verbose=4,cv=5)\n",
    "gscv.fit(X_train,y_train)\n",
    "logreg_gs=gscv.best_estimator_\n",
    "print(gscv.best_params_)\n",
    "'''\n",
    "logreg_gs=LogisticRegression(max_iter=5000,random_state=10,penalty='l2',C=2,solver='lbfgs')\n",
    "logreg_gs.fit(X_train,y_train)\n",
    "y_pred_logreg=logreg_gs.predict(X_val)"
   ]
  },
  {
   "cell_type": "code",
   "execution_count": 25,
   "id": "2c964d92",
   "metadata": {
    "execution": {
     "iopub.execute_input": "2023-07-31T09:27:51.226834Z",
     "iopub.status.busy": "2023-07-31T09:27:51.226466Z",
     "iopub.status.idle": "2023-07-31T09:27:51.261226Z",
     "shell.execute_reply": "2023-07-31T09:27:51.260201Z"
    },
    "papermill": {
     "duration": 0.067568,
     "end_time": "2023-07-31T09:27:51.263409",
     "exception": false,
     "start_time": "2023-07-31T09:27:51.195841",
     "status": "completed"
    },
    "tags": []
   },
   "outputs": [
    {
     "name": "stdout",
     "output_type": "stream",
     "text": [
      "Training scsore: 0.9008888464111632\n",
      "Validation score: 0.8393339886950111\n"
     ]
    }
   ],
   "source": [
    "print(f'Training scsore: {logreg_gs.score(X_train,y_train)}')\n",
    "print(f'Validation score: {logreg_gs.score(X_val,y_val)}')"
   ]
  },
  {
   "cell_type": "code",
   "execution_count": 26,
   "id": "d40482e2",
   "metadata": {
    "execution": {
     "iopub.execute_input": "2023-07-31T09:27:51.295465Z",
     "iopub.status.busy": "2023-07-31T09:27:51.295089Z",
     "iopub.status.idle": "2023-07-31T09:27:51.300015Z",
     "shell.execute_reply": "2023-07-31T09:27:51.298939Z"
    },
    "papermill": {
     "duration": 0.023709,
     "end_time": "2023-07-31T09:27:51.302361",
     "exception": false,
     "start_time": "2023-07-31T09:27:51.278652",
     "status": "completed"
    },
    "tags": []
   },
   "outputs": [],
   "source": [
    "from sklearn.metrics import confusion_matrix, ConfusionMatrixDisplay\n",
    "from sklearn.metrics import classification_report"
   ]
  },
  {
   "cell_type": "code",
   "execution_count": 27,
   "id": "6d64003f",
   "metadata": {
    "execution": {
     "iopub.execute_input": "2023-07-31T09:27:51.333925Z",
     "iopub.status.busy": "2023-07-31T09:27:51.333580Z",
     "iopub.status.idle": "2023-07-31T09:27:51.469896Z",
     "shell.execute_reply": "2023-07-31T09:27:51.468989Z"
    },
    "papermill": {
     "duration": 0.154152,
     "end_time": "2023-07-31T09:27:51.471732",
     "exception": false,
     "start_time": "2023-07-31T09:27:51.317580",
     "status": "completed"
    },
    "tags": []
   },
   "outputs": [
    {
     "data": {
      "image/png": "[encoded data removed]",
      "text/plain": [
       "<Figure size 200x200 with 2 Axes>"
      ]
     },
     "metadata": {},
     "output_type": "display_data"
    }
   ],
   "source": [
    "cm=confusion_matrix(y_val,y_pred_logreg)\n",
    "matrix=ConfusionMatrixDisplay(confusion_matrix=cm)\n",
    "matrix.plot()\n",
    "plt.gcf().set_size_inches(2, 2)\n",
    "plt.show()"
   ]
  },
  {
   "cell_type": "code",
   "execution_count": 28,
   "id": "d4f31f9b",
   "metadata": {
    "execution": {
     "iopub.execute_input": "2023-07-31T09:27:51.504935Z",
     "iopub.status.busy": "2023-07-31T09:27:51.503901Z",
     "iopub.status.idle": "2023-07-31T09:27:51.531899Z",
     "shell.execute_reply": "2023-07-31T09:27:51.530834Z"
    },
    "papermill": {
     "duration": 0.046968,
     "end_time": "2023-07-31T09:27:51.534005",
     "exception": false,
     "start_time": "2023-07-31T09:27:51.487037",
     "status": "completed"
    },
    "tags": []
   },
   "outputs": [
    {
     "name": "stdout",
     "output_type": "stream",
     "text": [
      "              precision    recall  f1-score   support\n",
      "\n",
      "           0       0.79      0.70      0.74      5369\n",
      "           1       0.86      0.91      0.88     10907\n",
      "\n",
      "    accuracy                           0.84     16276\n",
      "   macro avg       0.82      0.80      0.81     16276\n",
      "weighted avg       0.84      0.84      0.84     16276\n",
      "\n"
     ]
    }
   ],
   "source": [
    "print(classification_report(y_val,y_pred_logreg)) "
   ]
  },
  {
   "cell_type": "markdown",
   "id": "ccb01ccb",
   "metadata": {
    "papermill": {
     "duration": 0.014582,
     "end_time": "2023-07-31T09:27:51.563370",
     "exception": false,
     "start_time": "2023-07-31T09:27:51.548788",
     "status": "completed"
    },
    "tags": []
   },
   "source": [
    "## 2) SGDClassifier"
   ]
  },
  {
   "cell_type": "code",
   "execution_count": 29,
   "id": "09807681",
   "metadata": {
    "execution": {
     "iopub.execute_input": "2023-07-31T09:27:51.595209Z",
     "iopub.status.busy": "2023-07-31T09:27:51.594836Z",
     "iopub.status.idle": "2023-07-31T09:27:55.256724Z",
     "shell.execute_reply": "2023-07-31T09:27:55.255350Z"
    },
    "papermill": {
     "duration": 3.680821,
     "end_time": "2023-07-31T09:27:55.259178",
     "exception": false,
     "start_time": "2023-07-31T09:27:51.578357",
     "status": "completed"
    },
    "tags": []
   },
   "outputs": [],
   "source": [
    "from sklearn.linear_model import SGDClassifier\n",
    "'''\n",
    "from sklearn.model_selection import GridSearchCV\n",
    "\n",
    "sgdc=SGDClassifier(max_iter=5000,random_state=10)\n",
    "pg_base={\n",
    "      'loss':['modified_huber','perceptron'],\n",
    "      'penalty':['l1','l2'],\n",
    "      'alpha':np.logspace(-5,-3,3),\n",
    "      'fit_intercept':[False,True],\n",
    "      'eta0':np.logspace(-2,0,3)\n",
    "}\n",
    "\n",
    "pg=[{'learning_rate':['adaptive']},\n",
    "    {'learning_rate':['invscaling'],'power_t':np.arange(0.20,0.35,0.05)}]\n",
    "\n",
    "for i in pg:\n",
    "  i.update(pg_base)\n",
    "\n",
    "gscv=GridSearchCV(sgdc,pg,verbose=4,cv=5)\n",
    "gscv.fit(X_train,y_train)\n",
    "sgdc_gs=gscv.best_estimator_\n",
    "print(gscv.best_params_)\n",
    "'''\n",
    "sgdc_gs=SGDClassifier(max_iter=5000,\n",
    "                      random_state=10,\n",
    "                      alpha=1e-05,\n",
    "                      eta0=0.1,\n",
    "                      fit_intercept=True,\n",
    "                      learning_rate='invscaling',\n",
    "                      loss='modified_huber',\n",
    "                      penalty='l2',\n",
    "                      power_t=0.25)\n",
    "sgdc_gs.fit(X_train,y_train)\n",
    "y_pred_sgdc=sgdc_gs.predict(X_val)"
   ]
  },
  {
   "cell_type": "code",
   "execution_count": 30,
   "id": "ada99b09",
   "metadata": {
    "execution": {
     "iopub.execute_input": "2023-07-31T09:27:55.291098Z",
     "iopub.status.busy": "2023-07-31T09:27:55.290759Z",
     "iopub.status.idle": "2023-07-31T09:27:55.317395Z",
     "shell.execute_reply": "2023-07-31T09:27:55.316130Z"
    },
    "papermill": {
     "duration": 0.045288,
     "end_time": "2023-07-31T09:27:55.319632",
     "exception": false,
     "start_time": "2023-07-31T09:27:55.274344",
     "status": "completed"
    },
    "tags": []
   },
   "outputs": [
    {
     "name": "stdout",
     "output_type": "stream",
     "text": [
      "Training scsore: 0.8964855750194564\n",
      "Validation score: 0.8393339886950111\n"
     ]
    }
   ],
   "source": [
    "print(f'Training scsore: {sgdc_gs.score(X_train,y_train)}')\n",
    "print(f'Validation score: {sgdc_gs.score(X_val,y_val)}')"
   ]
  },
  {
   "cell_type": "code",
   "execution_count": 31,
   "id": "129a6336",
   "metadata": {
    "execution": {
     "iopub.execute_input": "2023-07-31T09:27:55.353658Z",
     "iopub.status.busy": "2023-07-31T09:27:55.352327Z",
     "iopub.status.idle": "2023-07-31T09:27:55.492009Z",
     "shell.execute_reply": "2023-07-31T09:27:55.491146Z"
    },
    "papermill": {
     "duration": 0.159214,
     "end_time": "2023-07-31T09:27:55.494424",
     "exception": false,
     "start_time": "2023-07-31T09:27:55.335210",
     "status": "completed"
    },
    "tags": []
   },
   "outputs": [
    {
     "data": {
      "image/png": "[encoded data removed]",
      "text/plain": [
       "<Figure size 200x200 with 2 Axes>"
      ]
     },
     "metadata": {},
     "output_type": "display_data"
    }
   ],
   "source": [
    "cm=confusion_matrix(y_val,y_pred_sgdc)\n",
    "matrix=ConfusionMatrixDisplay(confusion_matrix=cm)\n",
    "matrix.plot()\n",
    "plt.gcf().set_size_inches(2, 2)\n",
    "plt.show()"
   ]
  },
  {
   "cell_type": "code",
   "execution_count": 32,
   "id": "91d8fb4b",
   "metadata": {
    "execution": {
     "iopub.execute_input": "2023-07-31T09:27:55.537487Z",
     "iopub.status.busy": "2023-07-31T09:27:55.537055Z",
     "iopub.status.idle": "2023-07-31T09:27:55.564898Z",
     "shell.execute_reply": "2023-07-31T09:27:55.564197Z"
    },
    "papermill": {
     "duration": 0.051424,
     "end_time": "2023-07-31T09:27:55.566967",
     "exception": false,
     "start_time": "2023-07-31T09:27:55.515543",
     "status": "completed"
    },
    "tags": []
   },
   "outputs": [
    {
     "name": "stdout",
     "output_type": "stream",
     "text": [
      "              precision    recall  f1-score   support\n",
      "\n",
      "           0       0.79      0.70      0.74      5369\n",
      "           1       0.86      0.91      0.88     10907\n",
      "\n",
      "    accuracy                           0.84     16276\n",
      "   macro avg       0.82      0.81      0.81     16276\n",
      "weighted avg       0.84      0.84      0.84     16276\n",
      "\n"
     ]
    }
   ],
   "source": [
    "print(classification_report(y_val,y_pred_sgdc))"
   ]
  },
  {
   "cell_type": "markdown",
   "id": "9895e4fc",
   "metadata": {
    "papermill": {
     "duration": 0.015487,
     "end_time": "2023-07-31T09:27:55.598259",
     "exception": false,
     "start_time": "2023-07-31T09:27:55.582772",
     "status": "completed"
    },
    "tags": []
   },
   "source": [
    "## 3) LinearSVC"
   ]
  },
  {
   "cell_type": "code",
   "execution_count": 33,
   "id": "77ece645",
   "metadata": {
    "execution": {
     "iopub.execute_input": "2023-07-31T09:27:55.631690Z",
     "iopub.status.busy": "2023-07-31T09:27:55.631106Z",
     "iopub.status.idle": "2023-07-31T09:28:10.425020Z",
     "shell.execute_reply": "2023-07-31T09:28:10.424267Z"
    },
    "papermill": {
     "duration": 14.813438,
     "end_time": "2023-07-31T09:28:10.427473",
     "exception": false,
     "start_time": "2023-07-31T09:27:55.614035",
     "status": "completed"
    },
    "tags": []
   },
   "outputs": [],
   "source": [
    "from sklearn.svm import LinearSVC\n",
    "'''\n",
    "from sklearn.model_selection import GridSearchCV\n",
    "\n",
    "lsvc=LinearSVC(max_iter=5000,random_state=10)\n",
    "\n",
    "pg_base={'C':np.arange(0.1,0.4,0.1),\n",
    "         'fit_intercept':[False,True]}\n",
    "pg=[\n",
    "    {\n",
    "      'penalty':['l1','l2'],\n",
    "      'dual':[False],\n",
    "      'loss':['squared_hinge']\n",
    "    },\n",
    "    {\n",
    "      'penalty':['l2'],\n",
    "      'dual':[True],\n",
    "      'loss':['hinge','squared_hinge']\n",
    "    }]\n",
    "for i in pg:\n",
    "  i.update(pg_base)\n",
    "\n",
    "gscv=GridSearchCV(lsvc,pg,verbose=4,cv=5)\n",
    "gscv.fit(X_train,y_train)\n",
    "lsvc_gs=gscv.best_estimator_\n",
    "print(gscv.best_params_)\n",
    "'''\n",
    "lsvc_gs=LinearSVC(max_iter=5000,\n",
    "               random_state=10,\n",
    "               penalty='l2',\n",
    "               loss='squared_hinge',\n",
    "               dual=False,\n",
    "               C=0.2,\n",
    "               fit_intercept=True)\n",
    "lsvc_gs.fit(X_train,y_train)\n",
    "y_pred_lsvc=lsvc_gs.predict(X_val)"
   ]
  },
  {
   "cell_type": "code",
   "execution_count": 34,
   "id": "a533b153",
   "metadata": {
    "execution": {
     "iopub.execute_input": "2023-07-31T09:28:10.471817Z",
     "iopub.status.busy": "2023-07-31T09:28:10.471473Z",
     "iopub.status.idle": "2023-07-31T09:28:10.503447Z",
     "shell.execute_reply": "2023-07-31T09:28:10.501761Z"
    },
    "papermill": {
     "duration": 0.057227,
     "end_time": "2023-07-31T09:28:10.506087",
     "exception": false,
     "start_time": "2023-07-31T09:28:10.448860",
     "status": "completed"
    },
    "tags": []
   },
   "outputs": [
    {
     "name": "stdout",
     "output_type": "stream",
     "text": [
      "Training scsore: 0.9033669665897517\n",
      "Validation score: 0.8382895060211354\n"
     ]
    }
   ],
   "source": [
    "print(f'Training scsore: {lsvc_gs.score(X_train,y_train)}')\n",
    "print(f'Validation score: {lsvc_gs.score(X_val,y_val)}')"
   ]
  },
  {
   "cell_type": "code",
   "execution_count": 35,
   "id": "2e9f0f94",
   "metadata": {
    "execution": {
     "iopub.execute_input": "2023-07-31T09:28:10.539561Z",
     "iopub.status.busy": "2023-07-31T09:28:10.539182Z",
     "iopub.status.idle": "2023-07-31T09:28:10.690440Z",
     "shell.execute_reply": "2023-07-31T09:28:10.689362Z"
    },
    "papermill": {
     "duration": 0.170961,
     "end_time": "2023-07-31T09:28:10.692775",
     "exception": false,
     "start_time": "2023-07-31T09:28:10.521814",
     "status": "completed"
    },
    "tags": []
   },
   "outputs": [
    {
     "data": {
      "image/png": "[encoded data removed]",
      "text/plain": [
       "<Figure size 200x200 with 2 Axes>"
      ]
     },
     "metadata": {},
     "output_type": "display_data"
    }
   ],
   "source": [
    "cm=confusion_matrix(y_val,y_pred_lsvc)\n",
    "matrix=ConfusionMatrixDisplay(confusion_matrix=cm)\n",
    "matrix.plot()\n",
    "plt.gcf().set_size_inches(2, 2)\n",
    "plt.show()"
   ]
  },
  {
   "cell_type": "code",
   "execution_count": 36,
   "id": "a7ab65fa",
   "metadata": {
    "execution": {
     "iopub.execute_input": "2023-07-31T09:28:10.731906Z",
     "iopub.status.busy": "2023-07-31T09:28:10.730910Z",
     "iopub.status.idle": "2023-07-31T09:28:10.759102Z",
     "shell.execute_reply": "2023-07-31T09:28:10.757465Z"
    },
    "papermill": {
     "duration": 0.047691,
     "end_time": "2023-07-31T09:28:10.761463",
     "exception": false,
     "start_time": "2023-07-31T09:28:10.713772",
     "status": "completed"
    },
    "tags": []
   },
   "outputs": [
    {
     "name": "stdout",
     "output_type": "stream",
     "text": [
      "              precision    recall  f1-score   support\n",
      "\n",
      "           0       0.79      0.70      0.74      5369\n",
      "           1       0.86      0.91      0.88     10907\n",
      "\n",
      "    accuracy                           0.84     16276\n",
      "   macro avg       0.82      0.80      0.81     16276\n",
      "weighted avg       0.84      0.84      0.84     16276\n",
      "\n"
     ]
    }
   ],
   "source": [
    "print(classification_report(y_val,y_pred_lsvc))  "
   ]
  },
  {
   "cell_type": "markdown",
   "id": "9ba5e83b",
   "metadata": {
    "papermill": {
     "duration": 0.016081,
     "end_time": "2023-07-31T09:28:10.793747",
     "exception": false,
     "start_time": "2023-07-31T09:28:10.777666",
     "status": "completed"
    },
    "tags": []
   },
   "source": [
    "<font size='3'>\n",
    "Considering the confusion matrices and classification reports, it can be concluded that all three models perform very similarly. Since Logistic Regression is more interpretable compared to the other models, it will be considered for the final model.\n",
    "</font>"
   ]
  }
 ],
 "metadata": {
  "kernelspec": {
   "display_name": "Python 3",
   "language": "python",
   "name": "python3"
  },
  "language_info": {
   "codemirror_mode": {
    "name": "ipython",
    "version": 3
   },
   "file_extension": ".py",
   "mimetype": "text/x-python",
   "name": "python",
   "nbconvert_exporter": "python",
   "pygments_lexer": "ipython3",
   "version": "3.12.0"
  },
  "papermill": {
   "default_parameters": {},
   "duration": 110.118269,
   "end_time": "2023-07-31T09:28:17.145828",
   "environment_variables": {},
   "exception": null,
   "input_path": "__notebook__.ipynb",
   "output_path": "__notebook__.ipynb",
   "parameters": {},
   "start_time": "2023-07-31T09:26:27.027559",
   "version": "2.4.0"
  }
 },
 "nbformat": 4,
 "nbformat_minor": 5
}
